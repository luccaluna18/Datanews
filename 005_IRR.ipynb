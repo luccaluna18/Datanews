{
 "cells": [
  {
   "cell_type": "markdown",
   "id": "05737006-9b77-40ea-bad8-4348309cb802",
   "metadata": {},
   "source": [
    "Dependências "
   ]
  },
  {
   "cell_type": "code",
   "execution_count": 11,
   "id": "7c18f63f-94b1-48ac-850e-2816678b8db5",
   "metadata": {
    "execution": {
     "iopub.execute_input": "2024-08-19T11:49:45.581160Z",
     "iopub.status.busy": "2024-08-19T11:49:45.581160Z",
     "iopub.status.idle": "2024-08-19T11:49:46.502186Z",
     "shell.execute_reply": "2024-08-19T11:49:46.502186Z"
    },
    "tags": []
   },
   "outputs": [],
   "source": [
    "import os.path\n",
    "\n",
    "from google.auth.transport.requests import Request\n",
    "from google.oauth2.credentials import Credentials\n",
    "from google_auth_oauthlib.flow import InstalledAppFlow\n",
    "from googleapiclient.discovery import build\n",
    "from googleapiclient.errors import HttpError\n",
    "\n",
    "import pandas as pd\n",
    "from datetime import datetime"
   ]
  },
  {
   "cell_type": "markdown",
   "id": "6df5a0ae-de8f-458d-986e-d5adebd7fc10",
   "metadata": {},
   "source": [
    "Funções Gerais"
   ]
  },
  {
   "cell_type": "code",
   "execution_count": 12,
   "id": "7899ad23-0e25-48bf-bf93-947b716225a1",
   "metadata": {
    "execution": {
     "iopub.execute_input": "2024-08-19T11:49:46.502186Z",
     "iopub.status.busy": "2024-08-19T11:49:46.502186Z",
     "iopub.status.idle": "2024-08-19T11:49:46.519754Z",
     "shell.execute_reply": "2024-08-19T11:49:46.519754Z"
    },
    "tags": []
   },
   "outputs": [],
   "source": [
    "class GoogleSheetsAPI:\n",
    "    def __init__(self):\n",
    "        self.token_path = r\"C:\\Users\\lucca.luna\\Scripts\\2 - Chaves\\token_sheets.json\"\n",
    "        self.credentials_path = r\"C:\\Users\\lucca.luna\\Scripts\\2 - Chaves\\credentials_sheets.json\"\n",
    "        self.SCOPES = [\"https://www.googleapis.com/auth/spreadsheets\"]\n",
    "        self.creds = None\n",
    "        \n",
    "        # Try to load credentials from token file\n",
    "        if os.path.exists(self.token_path):\n",
    "            self.creds = Credentials.from_authorized_user_file(self.token_path, self.SCOPES)\n",
    "\n",
    "        # If credentials are not valid or do not exist, authenticate\n",
    "        if not self.creds or not self.creds.valid:\n",
    "            if self.creds and self.creds.expired and self.creds.refresh_token:\n",
    "                self.creds.refresh(Request())\n",
    "            else:\n",
    "                flow = InstalledAppFlow.from_client_secrets_file(self.credentials_path, self.SCOPES)\n",
    "                self.creds = flow.run_local_server(port=0)\n",
    "\n",
    "            # Save the credentials for the next run\n",
    "            with open(self.token_path, \"w\") as token:\n",
    "                token.write(self.creds.to_json())\n",
    "\n",
    "    def sheets_to_dataframe(self, sheet_id, sheet_range):\n",
    "        try:\n",
    "            service = build(\"sheets\", \"v4\", credentials=self.creds)\n",
    "\n",
    "            sheet = service.spreadsheets()\n",
    "            result = sheet.values().get(spreadsheetId=sheet_id, range=sheet_range).execute()\n",
    "            values = result.get(\"values\", [])\n",
    "\n",
    "            if values:\n",
    "                df = pd.DataFrame(values, columns=values[0]).reset_index(drop=True)\n",
    "                return df\n",
    "            else:\n",
    "                print(f\"No data found in {sheet_id}\")\n",
    "                return None\n",
    "        except HttpError as err:\n",
    "            print(err)\n",
    "\n",
    "    def sheets_names(self, sheet_id):\n",
    "        try:\n",
    "            service = build(\"sheets\", \"v4\", credentials=self.creds)\n",
    "\n",
    "            # Obtém metadados da planilha\n",
    "            sheet_metadata = service.spreadsheets().get(spreadsheetId=sheet_id).execute()\n",
    "            sheets = sheet_metadata.get('sheets', [])\n",
    "\n",
    "            if sheets:\n",
    "                df = pd.DataFrame(sheets).reset_index(drop=True)\n",
    "                df = pd.json_normalize(df['properties'])\n",
    "                df = df['title'].to_frame()\n",
    "                df.columns.values[0] = \"planilhas\"\n",
    "                return df\n",
    "            else:\n",
    "                return None\n",
    "        except HttpError as err:\n",
    "            print(err)\n",
    "\n",
    "    def dataframe_to_sheets(self, df, sheet_id, sheet_range):\n",
    "        try:\n",
    "            service = build(\"sheets\", \"v4\", credentials=self.creds)\n",
    "\n",
    "            data = [df.columns.tolist()]  # Include header in the list of values\n",
    "            data += df.values.tolist()    # Add DataFrame values\n",
    "\n",
    "            body = {\n",
    "                'values': data\n",
    "            }\n",
    "            result = service.spreadsheets().values().update(\n",
    "                spreadsheetId=sheet_id, range=sheet_range,\n",
    "                valueInputOption='RAW', body=body).execute()\n",
    "\n",
    "            print('{0} cells updated.'.format(result.get('updatedCells')))\n",
    "        except Exception as err:\n",
    "            print(err)\n",
    "\n",
    "class log:\n",
    "    #Logging de execução do script\n",
    "    def adicionar_termino():\n",
    "        # Carregar o arquivo Excel como um DataFrame do Pandas\n",
    "        arquivo_excel = r\"C:\\Users\\lucca.luna\\Scripts\\0 - Log\\Log.xlsx\"\n",
    "        df = pd.read_excel(arquivo_excel)\n",
    "\n",
    "        # Adicionar a data e hora de término na última linha da coluna \"Data de Término\"\n",
    "        ultima_linha = df.shape[0] - 1\n",
    "        df.at[ultima_linha, \"Data de Término\"] = datetime.now()\n",
    "\n",
    "        # Salvar o DataFrame de volta no arquivo Excel\n",
    "        df.to_excel(arquivo_excel, index=False)\n",
    "\n",
    "    def adicionar_inicio(nome):\n",
    "        # Carregar o arquivo Excel como um DataFrame do Pandas\n",
    "        arquivo_excel = r\"C:\\Users\\lucca.luna\\Scripts\\0 - Log\\Log.xlsx\"\n",
    "        # Altere para o caminho do seu arquivo\n",
    "        df = pd.read_excel(arquivo_excel)\n",
    "\n",
    "        # Criar um novo DataFrame com a nova linha\n",
    "        nova_linha = pd.DataFrame([[nome, datetime.now()]], columns=[\"Nome\", \"Hora de Início\"])\n",
    "\n",
    "        # Concatenar o novo DataFrame com o DataFrame original\n",
    "        df = pd.concat([df, nova_linha], ignore_index=True)\n",
    "\n",
    "        # Salvar o DataFrame de volta no arquivo Excel\n",
    "        df.to_excel(arquivo_excel, index=False)"
   ]
  },
  {
   "cell_type": "markdown",
   "id": "326406bb-094f-45ee-9d5d-1c2669ce20f3",
   "metadata": {},
   "source": [
    "Codigo"
   ]
  },
  {
   "cell_type": "code",
   "execution_count": 13,
   "id": "d2bed5a7",
   "metadata": {},
   "outputs": [],
   "source": [
    "#Compilar dados de planejamento\n",
    "Sheets = GoogleSheetsAPI()\n",
    "\n",
    "sheet_id = \"1AI7shZtkdDkc91sPxeU6bTzD0CwdDws5HI67RJ2iBbQ\"\n",
    "\n",
    "df_IRR_names = Sheets.sheets_names( sheet_id )"
   ]
  },
  {
   "cell_type": "code",
   "execution_count": 14,
   "id": "46997d89",
   "metadata": {},
   "outputs": [],
   "source": [
    "df_IRR_names = df_IRR_names[(df_IRR_names['planilhas'] != \"MANUAL\") & \n",
    "                            (df_IRR_names['planilhas'] != \"LEADTIMES\") & \n",
    "                            (df_IRR_names['planilhas'] != \"Planejador x obra\") & \n",
    "                            (df_IRR_names['planilhas'] != \"MODELO\") & \n",
    "                            (df_IRR_names['planilhas'] != \"BASE DE DADOS\") \n",
    "                            ]"
   ]
  },
  {
   "cell_type": "code",
   "execution_count": 15,
   "id": "ce4bb919",
   "metadata": {},
   "outputs": [
    {
     "name": "stderr",
     "output_type": "stream",
     "text": [
      "C:\\Users\\lucca.luna\\AppData\\Local\\Temp\\ipykernel_15676\\193294242.py:31: SettingWithCopyWarning: \n",
      "A value is trying to be set on a copy of a slice from a DataFrame.\n",
      "Try using .loc[row_indexer,col_indexer] = value instead\n",
      "\n",
      "See the caveats in the documentation: https://pandas.pydata.org/pandas-docs/stable/user_guide/indexing.html#returning-a-view-versus-a-copy\n",
      "  df_na_vazio[['ID', 'Descrição da Restrição (Ação)']] = df_na_vazio['Descrição da Restrição (Ação)'].str.split(':', n=1, expand=True)\n",
      "C:\\Users\\lucca.luna\\AppData\\Local\\Temp\\ipykernel_15676\\193294242.py:31: SettingWithCopyWarning: \n",
      "A value is trying to be set on a copy of a slice from a DataFrame.\n",
      "Try using .loc[row_indexer,col_indexer] = value instead\n",
      "\n",
      "See the caveats in the documentation: https://pandas.pydata.org/pandas-docs/stable/user_guide/indexing.html#returning-a-view-versus-a-copy\n",
      "  df_na_vazio[['ID', 'Descrição da Restrição (Ação)']] = df_na_vazio['Descrição da Restrição (Ação)'].str.split(':', n=1, expand=True)\n"
     ]
    }
   ],
   "source": [
    "df_IRR = pd.DataFrame()\n",
    "for planilha in df_IRR_names['planilhas']:\n",
    "    try:\n",
    "        erro = \"Extrair DF\"\n",
    "        sheet_id = \"1AI7shZtkdDkc91sPxeU6bTzD0CwdDws5HI67RJ2iBbQ\"\n",
    "        sheet_range = f\"'{planilha}'!B2:R\"\n",
    "        df = Sheets.sheets_to_dataframe(sheet_id, sheet_range)\n",
    "        df = df.drop([0]).reset_index(drop=True)\n",
    "\n",
    "        erro = \"Retirar Brancos\"\n",
    "        df = df.loc[(df['Descrição da Restrição (Ação)'] != '') & (df['Descrição da Restrição (Ação)'] != 'CANCELADO')]\n",
    "        non_null_columns = df.columns[df.columns.notna()]\n",
    "        df = df[non_null_columns]\n",
    "\n",
    "\n",
    "        erro = \"Tratamento\"\n",
    "        # Substituir '-' por ':'\n",
    "        df['Descrição da Restrição (Ação)'] = df['Descrição da Restrição (Ação)'].str.replace('-', ':')\n",
    "\n",
    "\n",
    "        erro = \"Dfs Vazios\"\n",
    "        try:\n",
    "            df_na_vazio = df[df['N°'].isna() | (df['N°'] == '')]\n",
    "            vazios = len(df_na_vazio)\n",
    "        except:\n",
    "            pass\n",
    "\n",
    "\n",
    "        try:\n",
    "            if vazios > 0:        \n",
    "                df_na_vazio[['ID', 'Descrição da Restrição (Ação)']] = df_na_vazio['Descrição da Restrição (Ação)'].str.split(':', n=1, expand=True)\n",
    "                df_na_preenchido = df[~df['N°'].isna() & (df['N°'] != '')]\n",
    "                \n",
    "                # Concatenar os DataFrames\n",
    "                erro = \"Concatenar Dados\"\n",
    "                df = pd.concat([df_na_vazio, df_na_preenchido], axis=0)\n",
    "\n",
    "                erro = \"Retirar DFs da Memoria\"\n",
    "                del df_na_vazio\n",
    "                del df_na_preenchido\n",
    "        except:\n",
    "            pass    \n",
    "\n",
    "        # Preenchendo a coluna 'ID' onde 'N°' está vazio\n",
    "        erro = \"Corrigir N\"\n",
    "        df['ID'] = \"\"\n",
    "        df['ID'] = df.apply(lambda row: row['N°'] if pd.isna(row['ID']) or row['ID'] == \"\" else row['ID'], axis=1)\n",
    "\n",
    "        df.drop(columns=['N°'], inplace=True)\n",
    "\n",
    "        erro = \"Criar Chave Obra\"\n",
    "        # Cria Coluna de chave de obra\n",
    "        df['Chave Restrição'] = df['OBRA'].astype(str).str.cat(df['ID'].astype(str), sep=' - ')\n",
    "\n",
    "        erro = \"Filtrar Dados\"\n",
    "        #Filtra apenas as informações necessárias para serem enviadas\n",
    "        df = df[((df['Setor Responsável']  == \"Suprimentos\") | (df['Setor Responsável']  == \"Projeto\") | (df['Setor Responsável']  == \"Logistica\")) & (df['Aprovação da restrição']  == \"Aprovada\")]\n",
    "\n",
    "        erro = \"Concatenar ao DF principal\"\n",
    "        df_IRR = pd.concat([df_IRR, df], ignore_index=True)\n",
    "        del df\n",
    "    except:\n",
    "        print(f\"{planilha} - {erro}\")"
   ]
  },
  {
   "cell_type": "code",
   "execution_count": 16,
   "id": "dcbc52f9-1bb5-46a9-84c3-b394c54747c2",
   "metadata": {
    "execution": {
     "iopub.execute_input": "2024-08-19T11:49:48.679166Z",
     "iopub.status.busy": "2024-08-19T11:49:48.679166Z",
     "iopub.status.idle": "2024-08-19T11:49:50.801682Z",
     "shell.execute_reply": "2024-08-19T11:49:50.801682Z"
    },
    "tags": []
   },
   "outputs": [
    {
     "name": "stdout",
     "output_type": "stream",
     "text": [
      "625 cells updated.\n"
     ]
    }
   ],
   "source": [
    "# Obter lista de responsáveis únicos\n",
    "df_responsaveis = df_IRR[['Responsável', 'Setor Responsável']].drop_duplicates().reset_index(drop=True)\n",
    "\n",
    "# IDs e range da planilha\n",
    "sheet_id = \"1EcOx_tIukF4JjaTtRxHZu1nYjyac-hTt5uykL_V0-kA\"\n",
    "sheet_range = \"'Emails'!A:F\"\n",
    "\n",
    "df_compradores_sheets = Sheets.sheets_to_dataframe(sheet_id, sheet_range)\n",
    "df_compradores_sheets = df_compradores_sheets.drop_duplicates(subset=['Responsável']).reset_index(drop=True)\n",
    "df_resultado = pd.merge(df_compradores_sheets, df_responsaveis, how=\"outer\", on=['Responsável'], suffixes=('', '_duplicado'))\n",
    "df_resultado['Setor Responsável'] = df_resultado['Setor Responsável'].combine_first(df_resultado['Setor Responsável_duplicado'])\n",
    "df_resultado = df_resultado.drop(columns=['Setor Responsável_duplicado'])\n",
    "df_resultado = df_resultado.drop_duplicates(subset=['Responsável']).reset_index(drop=True)\n",
    "df_resultado = df_resultado[df_resultado['Responsável'] != 'Responsável']\n",
    "\n",
    "# Remover valores NaN\n",
    "df_resultado = df_resultado.fillna('')\n",
    "\n",
    "# Enviar dados atualizados para a planilha\n",
    "Sheets.dataframe_to_sheets(df_resultado, sheet_id, sheet_range)"
   ]
  },
  {
   "cell_type": "code",
   "execution_count": 17,
   "id": "ce01e0d8-bd56-40e3-8cd7-dd8e8c0695d1",
   "metadata": {
    "execution": {
     "iopub.execute_input": "2024-08-19T11:49:50.801682Z",
     "iopub.status.busy": "2024-08-19T11:49:50.801682Z",
     "iopub.status.idle": "2024-08-19T11:49:50.817490Z",
     "shell.execute_reply": "2024-08-19T11:49:50.817490Z"
    },
    "tags": []
   },
   "outputs": [],
   "source": [
    "#Merge das Planilhas para envio\n",
    "df_IRR = pd.merge(df_IRR, df_resultado, how=\"left\", on=[\"Responsável\"])\n",
    "\n",
    "#Criar Coluna de tempo restante\n",
    "df_IRR['Data de Criação'] = pd.to_datetime(df_IRR['Data de Criação'], dayfirst=True, format='mixed')\n",
    "df_IRR['Data Limite'] = pd.to_datetime(df_IRR['Data Limite'], dayfirst=True, format='mixed')\n",
    "\n",
    "data_atual = datetime.now()\n",
    "\n",
    "df_IRR['Dias Restantes'] = (df_IRR['Data Limite'] - data_atual).dt.days"
   ]
  },
  {
   "cell_type": "code",
   "execution_count": 18,
   "id": "e7fbafcc-9373-4504-a780-1d6967e54cbc",
   "metadata": {
    "execution": {
     "iopub.execute_input": "2024-08-19T11:49:50.817490Z",
     "iopub.status.busy": "2024-08-19T11:49:50.817490Z",
     "iopub.status.idle": "2024-08-19T11:49:50.831787Z",
     "shell.execute_reply": "2024-08-19T11:49:50.831787Z"
    },
    "tags": []
   },
   "outputs": [],
   "source": [
    "#Fru-Fru visual\n",
    "df_IRR = df_IRR.rename({'Descrição da Restrição (Ação)': 'Descrição', 'OBRA': 'Obra', 'STATUS': 'Status',}, axis = 1)\n",
    "df_IRR['Data de Criação'] = df_IRR['Data de Criação'].dt.strftime('%d/%m/%Y')\n",
    "df_IRR['Data Limite'] = df_IRR['Data Limite'].dt.strftime('%d/%m/%Y')\n",
    "df_IRR = df_IRR.sort_values(by='Dias Restantes', ascending=True)"
   ]
  },
  {
   "cell_type": "code",
   "execution_count": 21,
   "id": "efd6c0ed-2af3-405a-964e-c81daa4bb683",
   "metadata": {
    "execution": {
     "iopub.execute_input": "2024-08-19T11:49:50.831787Z",
     "iopub.status.busy": "2024-08-19T11:49:50.831787Z",
     "iopub.status.idle": "2024-08-19T11:49:51.232406Z",
     "shell.execute_reply": "2024-08-19T11:49:51.231400Z"
    },
    "tags": []
   },
   "outputs": [
    {
     "name": "stdout",
     "output_type": "stream",
     "text": [
      "Finalizado 2024-08-19 16:12:47.675041\n"
     ]
    }
   ],
   "source": [
    "#Df Final\n",
    "df_IRR = df_IRR[['Coordenador','Email','Responsável','ID','Obra','Categoria','Status','Descrição','Data de Criação','Data Limite','Dias Restantes']]\n",
    "df_IRR.to_excel(r\"C:\\Users\\lucca.luna\\Scripts\\4 - Scripts\\0 - Sobre demanda\\Newsletter\\IRR.xlsx\", index=False)\n",
    "print(f\"Finalizado {datetime.now()}\")"
   ]
  }
 ],
 "metadata": {
  "kernelspec": {
   "display_name": "Python 3 (ipykernel)",
   "language": "python",
   "name": "python3"
  },
  "language_info": {
   "codemirror_mode": {
    "name": "ipython",
    "version": 3
   },
   "file_extension": ".py",
   "mimetype": "text/x-python",
   "name": "python",
   "nbconvert_exporter": "python",
   "pygments_lexer": "ipython3",
   "version": "3.11.7"
  }
 },
 "nbformat": 4,
 "nbformat_minor": 5
}
